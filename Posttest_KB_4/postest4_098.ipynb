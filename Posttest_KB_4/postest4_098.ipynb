{
 "cells": [
  {
   "cell_type": "markdown",
   "id": "5f7eb7b9-2bae-4ce5-8afc-062d95cb5313",
   "metadata": {},
   "source": [
    "## Import Library dan Dataset"
   ]
  },
  {
   "cell_type": "code",
   "execution_count": 120,
   "id": "7b77e7d4-8835-47a1-99f9-bfde0b623160",
   "metadata": {},
   "outputs": [],
   "source": [
    "import pandas as pd\n",
    "import numpy as np\n",
    "from sklearn.model_selection import train_test_split\n",
    "data = pd.read_csv('new_train.csv')"
   ]
  },
  {
   "cell_type": "markdown",
   "id": "ab1bea72-7211-4757-932e-80257a12a26c",
   "metadata": {},
   "source": [
    "### membagi dataset menjadi training set dan testing set dengan proporsi 70:30"
   ]
  },
  {
   "cell_type": "code",
   "execution_count": 5,
   "id": "e77a8159-b14a-4b60-8c7a-49f7acfad0ce",
   "metadata": {},
   "outputs": [
    {
     "name": "stdout",
     "output_type": "stream",
     "text": [
      "______ TRAIN TEST SPLIT ______\n",
      "______________________________\n",
      "| Dimensi x_train | (23065, 15) |\n",
      "| Dimensi x_test  | (9885, 15) |\n",
      "| Dimensi y_train | (23065,)   |\n",
      "| Dimensi y_test  | (9885,)   |\n",
      "______________________________\n"
     ]
    }
   ],
   "source": [
    "x = data.iloc[:, :-1]\n",
    "y = data.iloc[:, -1]\n",
    "\n",
    "x_train, x_test, y_train, y_test = train_test_split(x, y, test_size = 0.3)\n",
    "\n",
    "print (\"______ TRAIN TEST SPLIT ______\")\n",
    "print (\"______________________________\")\n",
    "print (\"| Dimensi x_train |\", x_train.shape, \"|\")\n",
    "print (\"| Dimensi x_test  |\", x_test.shape, \"|\")\n",
    "print (\"| Dimensi y_train |\", y_train.shape, \"  |\")\n",
    "print (\"| Dimensi y_test  |\", y_test.shape, \"  |\")\n",
    "print (\"______________________________\")"
   ]
  },
  {
   "cell_type": "markdown",
   "id": "17ef0043-b0b7-44d5-b343-b0eef5ceb265",
   "metadata": {},
   "source": [
    "### Melakukan normalisasi data pada salah satu attribute menggunakan Min Max scaler "
   ]
  },
  {
   "cell_type": "code",
   "execution_count": 6,
   "id": "f0a6390e-3f0a-4933-b2ab-85f85f725955",
   "metadata": {},
   "outputs": [
    {
     "name": "stdout",
     "output_type": "stream",
     "text": [
      "       age           job   marital            education  default housing loan  \\\n",
      "0       49   blue-collar   married             basic.9y  unknown      no   no   \n",
      "1       37  entrepreneur   married    university.degree       no      no   no   \n",
      "2       78       retired   married             basic.4y       no      no   no   \n",
      "3       36        admin.   married    university.degree       no     yes   no   \n",
      "4       59       retired  divorced    university.degree       no      no   no   \n",
      "...    ...           ...       ...                  ...      ...     ...  ...   \n",
      "32945   28      services    single          high.school       no     yes   no   \n",
      "32946   52    technician   married  professional.course       no     yes   no   \n",
      "32947   54        admin.   married             basic.9y       no      no  yes   \n",
      "32948   29        admin.   married    university.degree       no      no   no   \n",
      "32949   35        admin.   married    university.degree       no      no  yes   \n",
      "\n",
      "         contact month day_of_week  duration  campaign  pdays  previous  \\\n",
      "0       cellular   nov         wed  0.046157         4    999         0   \n",
      "1      telephone   nov         wed  0.041074         2    999         1   \n",
      "2       cellular   jul         mon  0.233428         1    999         0   \n",
      "3      telephone   may         mon  0.024400         2    999         0   \n",
      "4       cellular   jun         tue  0.074827         2    999         0   \n",
      "...          ...   ...         ...       ...       ...    ...       ...   \n",
      "32945   cellular   jul         tue  0.039040         1    999         0   \n",
      "32946   cellular   nov         fri  0.013013         1    999         1   \n",
      "32947   cellular   jul         mon  0.026637         4    999         0   \n",
      "32948  telephone   may         fri  0.033550         1    999         0   \n",
      "32949  telephone   jun         tue  0.110614         3    999         0   \n",
      "\n",
      "          poutcome    y  \n",
      "0      nonexistent   no  \n",
      "1          failure   no  \n",
      "2      nonexistent  yes  \n",
      "3      nonexistent   no  \n",
      "4      nonexistent   no  \n",
      "...            ...  ...  \n",
      "32945  nonexistent   no  \n",
      "32946      failure   no  \n",
      "32947  nonexistent   no  \n",
      "32948  nonexistent   no  \n",
      "32949  nonexistent   no  \n",
      "\n",
      "[32950 rows x 16 columns]\n"
     ]
    }
   ],
   "source": [
    "from sklearn.preprocessing import MinMaxScaler\n",
    "\n",
    "data_copy_min_max_scaler = data.copy()\n",
    "attribute_to_normalize = 'duration'\n",
    "scaler = MinMaxScaler()\n",
    "data_copy_min_max_scaler[[attribute_to_normalize]] = scaler.fit_transform(data_copy_min_max_scaler[[attribute_to_normalize]])\n",
    "print(data_copy_min_max_scaler)"
   ]
  },
  {
   "cell_type": "markdown",
   "id": "63aa5973-6535-4474-9404-1d407ae51cba",
   "metadata": {},
   "source": [
    "### Melakukan standarisasi pada dataset"
   ]
  },
  {
   "cell_type": "code",
   "execution_count": 7,
   "id": "e21cef29-068e-45d6-b870-3f83f305d01b",
   "metadata": {},
   "outputs": [
    {
     "name": "stdout",
     "output_type": "stream",
     "text": [
      "            age           job   marital            education  default housing  \\\n",
      "0      0.863739   blue-collar   married             basic.9y  unknown      no   \n",
      "1     -0.289722  entrepreneur   married    university.degree       no      no   \n",
      "2      3.651268       retired   married             basic.4y       no      no   \n",
      "3     -0.385843        admin.   married    university.degree       no     yes   \n",
      "4      1.824956       retired  divorced    university.degree       no      no   \n",
      "...         ...           ...       ...                  ...      ...     ...   \n",
      "32945 -1.154817      services    single          high.school       no     yes   \n",
      "32946  1.152104    technician   married  professional.course       no     yes   \n",
      "32947  1.344347        admin.   married             basic.9y       no      no   \n",
      "32948 -1.058695        admin.   married    university.degree       no      no   \n",
      "32949 -0.481965        admin.   married    university.degree       no      no   \n",
      "\n",
      "      loan    contact month day_of_week  duration  campaign  pdays  previous  \\\n",
      "0       no   cellular   nov         wed       227         4    999         0   \n",
      "1       no  telephone   nov         wed       202         2    999         1   \n",
      "2       no   cellular   jul         mon      1148         1    999         0   \n",
      "3       no  telephone   may         mon       120         2    999         0   \n",
      "4       no   cellular   jun         tue       368         2    999         0   \n",
      "...    ...        ...   ...         ...       ...       ...    ...       ...   \n",
      "32945   no   cellular   jul         tue       192         1    999         0   \n",
      "32946   no   cellular   nov         fri        64         1    999         1   \n",
      "32947  yes   cellular   jul         mon       131         4    999         0   \n",
      "32948   no  telephone   may         fri       165         1    999         0   \n",
      "32949  yes  telephone   jun         tue       544         3    999         0   \n",
      "\n",
      "          poutcome    y  \n",
      "0      nonexistent   no  \n",
      "1          failure   no  \n",
      "2      nonexistent  yes  \n",
      "3      nonexistent   no  \n",
      "4      nonexistent   no  \n",
      "...            ...  ...  \n",
      "32945  nonexistent   no  \n",
      "32946      failure   no  \n",
      "32947  nonexistent   no  \n",
      "32948  nonexistent   no  \n",
      "32949  nonexistent   no  \n",
      "\n",
      "[32950 rows x 16 columns]\n"
     ]
    }
   ],
   "source": [
    "from sklearn.preprocessing import StandardScaler\n",
    "data_copy_standard = data.copy()\n",
    "standard_scaler = StandardScaler()\n",
    "attribute_to_standardize = 'age'\n",
    "data_copy_standard[[attribute_to_standardize]] = standard_scaler.fit_transform(data_copy_standard[[attribute_to_standardize]])\n",
    "print(data_copy_standard)"
   ]
  },
  {
   "cell_type": "markdown",
   "id": "c9ffc6d1-3e19-427f-8870-55fd01c64d90",
   "metadata": {},
   "source": [
    "### Lakukan Data cleaning pada data dengan nilai null"
   ]
  },
  {
   "cell_type": "code",
   "execution_count": 36,
   "id": "afecb458-aaf1-46c1-8222-f868d3c1fe91",
   "metadata": {},
   "outputs": [
    {
     "data": {
      "text/plain": [
       "age            0\n",
       "job            0\n",
       "marital        0\n",
       "education      0\n",
       "default        0\n",
       "housing        0\n",
       "loan           0\n",
       "contact        0\n",
       "month          0\n",
       "day_of_week    0\n",
       "duration       0\n",
       "campaign       0\n",
       "pdays          0\n",
       "previous       0\n",
       "poutcome       0\n",
       "y              0\n",
       "dtype: int64"
      ]
     },
     "execution_count": 36,
     "metadata": {},
     "output_type": "execute_result"
    }
   ],
   "source": [
    "# cek data null\n",
    "data.isna().sum()"
   ]
  },
  {
   "cell_type": "code",
   "execution_count": 37,
   "id": "bf842ca9-fead-48e9-b3d2-54e16e42b40d",
   "metadata": {},
   "outputs": [
    {
     "name": "stdout",
     "output_type": "stream",
     "text": [
      "Nilai dalam kolom 'campaign':\n",
      "[ 4  2  1  5  9  3  7  6 13  8 12 10 19 11 31 17 16 29 43 20 14 21 35 15\n",
      " 33 28 22 25 18 23 27 26 24 34 32 37 30 42 40 56]\n"
     ]
    }
   ],
   "source": [
    "# disini saya akan membuat nilai null/nan pada kolom campaign\n",
    "print(\"Nilai dalam kolom 'campaign':\")\n",
    "print(data['campaign'].unique())"
   ]
  },
  {
   "cell_type": "code",
   "execution_count": 38,
   "id": "350c01d3-1292-43fe-b2bc-6836c115346d",
   "metadata": {},
   "outputs": [
    {
     "name": "stdout",
     "output_type": "stream",
     "text": [
      "Nilai dalam kolom 'campaign' setelah saya ubah:\n",
      "[nan  5.  9.  7.  6. 13.  8. 12. 10. 19. 11. 31. 17. 16. 29. 43. 20. 14.\n",
      " 21. 35. 15. 33. 28. 22. 25. 18. 23. 27. 26. 24. 34. 32. 37. 30. 42. 40.\n",
      " 56.]\n"
     ]
    }
   ],
   "source": [
    "#mengubah nilai null/nan pada kolom campaign\n",
    "data.loc[data['campaign'] < 5, 'campaign'] = float('nan')\n",
    "print(\"Nilai dalam kolom 'campaign' setelah saya ubah:\")\n",
    "print(data['campaign'].unique())"
   ]
  },
  {
   "cell_type": "code",
   "execution_count": 39,
   "id": "6a16d1f2-cf5b-4ea3-bb91-a71147b3feaf",
   "metadata": {},
   "outputs": [
    {
     "data": {
      "text/plain": [
       "age                0\n",
       "job                0\n",
       "marital            0\n",
       "education          0\n",
       "default            0\n",
       "housing            0\n",
       "loan               0\n",
       "contact            0\n",
       "month              0\n",
       "day_of_week        0\n",
       "duration           0\n",
       "campaign       29006\n",
       "pdays              0\n",
       "previous           0\n",
       "poutcome           0\n",
       "y                  0\n",
       "dtype: int64"
      ]
     },
     "execution_count": 39,
     "metadata": {},
     "output_type": "execute_result"
    }
   ],
   "source": [
    "# cek nilai null/nan pada data \n",
    "data.isna().sum()"
   ]
  },
  {
   "cell_type": "code",
   "execution_count": 41,
   "id": "455e0b36-4389-457e-90a3-db5894f70ba5",
   "metadata": {},
   "outputs": [
    {
     "name": "stdout",
     "output_type": "stream",
     "text": [
      "\n",
      "Dataset setelah data cleaning\n",
      "Jumlah Record Yang memiliki nilai null: \n",
      "age            0\n",
      "job            0\n",
      "marital        0\n",
      "education      0\n",
      "default        0\n",
      "housing        0\n",
      "loan           0\n",
      "contact        0\n",
      "month          0\n",
      "day_of_week    0\n",
      "duration       0\n",
      "campaign       0\n",
      "pdays          0\n",
      "previous       0\n",
      "poutcome       0\n",
      "y              0\n",
      "dtype: int64\n"
     ]
    }
   ],
   "source": [
    "# lakukan proses cleaning pada kolom yang ada nilai null\n",
    "strategies = {\n",
    "    'campaign': data['campaign'].mean()\n",
    "}\n",
    "\n",
    "data_cleaned = data.fillna(value=strategies)\n",
    "print(\"\\nDataset setelah data cleaning\")\n",
    "print(\"Jumlah Record Yang memiliki nilai null: \")\n",
    "print(data_cleaned.isnull().sum())"
   ]
  },
  {
   "cell_type": "markdown",
   "id": "91394f15-d1d0-42a0-9d7e-6e5f27be0075",
   "metadata": {},
   "source": [
    "### Lakukan Data cleaning pada data dengan nilai duplikat."
   ]
  },
  {
   "cell_type": "code",
   "execution_count": 44,
   "id": "03144e33-5a98-463a-b014-a6370556caff",
   "metadata": {},
   "outputs": [
    {
     "name": "stdout",
     "output_type": "stream",
     "text": [
      "Cek data yang memiliki nilai duplicated\n"
     ]
    },
    {
     "data": {
      "text/plain": [
       "12"
      ]
     },
     "execution_count": 44,
     "metadata": {},
     "output_type": "execute_result"
    }
   ],
   "source": [
    "#Cek data duplikat\n",
    "print(\"Cek data yang memiliki nilai duplicated\")\n",
    "data.duplicated().sum()"
   ]
  },
  {
   "cell_type": "code",
   "execution_count": 45,
   "id": "594ba5c9-62b7-4238-8a4f-6eacfee82227",
   "metadata": {},
   "outputs": [
    {
     "name": "stdout",
     "output_type": "stream",
     "text": [
      "\n",
      " Cek Data Setelah menggunakan fungsi drop_duplicates()\n",
      "Jumlah Nilai Duplikat: 0\n"
     ]
    }
   ],
   "source": [
    "# lakukan data cleaning pada nilai duplicated\n",
    "data_cleaned.drop_duplicates(inplace=True)\n",
    "data_cleaned.duplicated().sum()\n",
    "print(\"\\n Cek Data Setelah menggunakan fungsi drop_duplicates()\")\n",
    "print(\"Jumlah Nilai Duplikat:\", data_cleaned.duplicated().sum())"
   ]
  },
  {
   "cell_type": "markdown",
   "id": "3dc70778-ec0d-4f25-a4ba-c62c0e74cf62",
   "metadata": {},
   "source": [
    "### Ganti tipe data salah satu attribute angka"
   ]
  },
  {
   "cell_type": "code",
   "execution_count": 96,
   "id": "ebb039ba-c021-4eb9-b066-971ef05b207d",
   "metadata": {},
   "outputs": [
    {
     "name": "stdout",
     "output_type": "stream",
     "text": [
      "Tipe Data Pada Kolom age Sebelum di Ganti : \n"
     ]
    },
    {
     "data": {
      "text/plain": [
       "dtype('int64')"
      ]
     },
     "execution_count": 96,
     "metadata": {},
     "output_type": "execute_result"
    }
   ],
   "source": [
    "print (\"Tipe Data Pada Kolom age Sebelum di Ganti : \")\n",
    "data['age'].dtypes"
   ]
  },
  {
   "cell_type": "code",
   "execution_count": 97,
   "id": "284eb2c8-2af3-441d-ab03-fc9487e4f893",
   "metadata": {},
   "outputs": [
    {
     "name": "stdout",
     "output_type": "stream",
     "text": [
      "Tipe Data Pada Kolom age Sebelum di Ganti : \n"
     ]
    },
    {
     "data": {
      "text/plain": [
       "dtype('float64')"
      ]
     },
     "execution_count": 97,
     "metadata": {},
     "output_type": "execute_result"
    }
   ],
   "source": [
    "data['age'] = data['age'].astype(float)\n",
    "print (\"Tipe Data Pada Kolom age Sebelum di Ganti : \")\n",
    "data['age'].dtypes"
   ]
  },
  {
   "cell_type": "code",
   "execution_count": 98,
   "id": "aab8d5be-cafe-4794-8822-962683e52ca2",
   "metadata": {},
   "outputs": [
    {
     "name": "stdout",
     "output_type": "stream",
     "text": [
      "<class 'pandas.core.frame.DataFrame'>\n",
      "RangeIndex: 32950 entries, 0 to 32949\n",
      "Data columns (total 16 columns):\n",
      " #   Column       Non-Null Count  Dtype  \n",
      "---  ------       --------------  -----  \n",
      " 0   age          32950 non-null  float64\n",
      " 1   job          32950 non-null  object \n",
      " 2   marital      32950 non-null  object \n",
      " 3   education    32950 non-null  object \n",
      " 4   default      32950 non-null  object \n",
      " 5   housing      32950 non-null  object \n",
      " 6   loan         32950 non-null  object \n",
      " 7   contact      32950 non-null  object \n",
      " 8   month        32950 non-null  object \n",
      " 9   day_of_week  32950 non-null  object \n",
      " 10  duration     32950 non-null  int64  \n",
      " 11  campaign     3944 non-null   float64\n",
      " 12  pdays        32950 non-null  int64  \n",
      " 13  previous     32950 non-null  int64  \n",
      " 14  poutcome     32950 non-null  object \n",
      " 15  y            32950 non-null  object \n",
      "dtypes: float64(2), int64(3), object(11)\n",
      "memory usage: 4.0+ MB\n"
     ]
    }
   ],
   "source": [
    "data.info()"
   ]
  },
  {
   "cell_type": "markdown",
   "id": "94404d7d-9eef-4728-8215-e1f12d81203d",
   "metadata": {},
   "source": [
    "### Lakukan one hot encoding pada dataset"
   ]
  },
  {
   "cell_type": "code",
   "execution_count": 105,
   "id": "b710f4e4-48d7-42c5-a2ae-0d0e9ce997d8",
   "metadata": {},
   "outputs": [
    {
     "data": {
      "text/html": [
       "<div>\n",
       "<style scoped>\n",
       "    .dataframe tbody tr th:only-of-type {\n",
       "        vertical-align: middle;\n",
       "    }\n",
       "\n",
       "    .dataframe tbody tr th {\n",
       "        vertical-align: top;\n",
       "    }\n",
       "\n",
       "    .dataframe thead th {\n",
       "        text-align: right;\n",
       "    }\n",
       "</style>\n",
       "<table border=\"1\" class=\"dataframe\">\n",
       "  <thead>\n",
       "    <tr style=\"text-align: right;\">\n",
       "      <th></th>\n",
       "      <th>marital</th>\n",
       "      <th>job</th>\n",
       "      <th>housing</th>\n",
       "    </tr>\n",
       "  </thead>\n",
       "  <tbody>\n",
       "    <tr>\n",
       "      <th>0</th>\n",
       "      <td>married</td>\n",
       "      <td>blue-collar</td>\n",
       "      <td>no</td>\n",
       "    </tr>\n",
       "    <tr>\n",
       "      <th>1</th>\n",
       "      <td>married</td>\n",
       "      <td>entrepreneur</td>\n",
       "      <td>no</td>\n",
       "    </tr>\n",
       "    <tr>\n",
       "      <th>2</th>\n",
       "      <td>married</td>\n",
       "      <td>retired</td>\n",
       "      <td>no</td>\n",
       "    </tr>\n",
       "    <tr>\n",
       "      <th>3</th>\n",
       "      <td>married</td>\n",
       "      <td>admin.</td>\n",
       "      <td>yes</td>\n",
       "    </tr>\n",
       "    <tr>\n",
       "      <th>4</th>\n",
       "      <td>divorced</td>\n",
       "      <td>retired</td>\n",
       "      <td>no</td>\n",
       "    </tr>\n",
       "    <tr>\n",
       "      <th>...</th>\n",
       "      <td>...</td>\n",
       "      <td>...</td>\n",
       "      <td>...</td>\n",
       "    </tr>\n",
       "    <tr>\n",
       "      <th>32945</th>\n",
       "      <td>single</td>\n",
       "      <td>services</td>\n",
       "      <td>yes</td>\n",
       "    </tr>\n",
       "    <tr>\n",
       "      <th>32946</th>\n",
       "      <td>married</td>\n",
       "      <td>technician</td>\n",
       "      <td>yes</td>\n",
       "    </tr>\n",
       "    <tr>\n",
       "      <th>32947</th>\n",
       "      <td>married</td>\n",
       "      <td>admin.</td>\n",
       "      <td>no</td>\n",
       "    </tr>\n",
       "    <tr>\n",
       "      <th>32948</th>\n",
       "      <td>married</td>\n",
       "      <td>admin.</td>\n",
       "      <td>no</td>\n",
       "    </tr>\n",
       "    <tr>\n",
       "      <th>32949</th>\n",
       "      <td>married</td>\n",
       "      <td>admin.</td>\n",
       "      <td>no</td>\n",
       "    </tr>\n",
       "  </tbody>\n",
       "</table>\n",
       "<p>32950 rows × 3 columns</p>\n",
       "</div>"
      ],
      "text/plain": [
       "        marital           job housing\n",
       "0       married   blue-collar      no\n",
       "1       married  entrepreneur      no\n",
       "2       married       retired      no\n",
       "3       married        admin.     yes\n",
       "4      divorced       retired      no\n",
       "...         ...           ...     ...\n",
       "32945    single      services     yes\n",
       "32946   married    technician     yes\n",
       "32947   married        admin.      no\n",
       "32948   married        admin.      no\n",
       "32949   married        admin.      no\n",
       "\n",
       "[32950 rows x 3 columns]"
      ]
     },
     "execution_count": 105,
     "metadata": {},
     "output_type": "execute_result"
    }
   ],
   "source": [
    "data[['marital','job','housing']]"
   ]
  },
  {
   "cell_type": "code",
   "execution_count": 101,
   "id": "2d28aaec-2cff-47cf-b03d-a76f11ad7378",
   "metadata": {},
   "outputs": [],
   "source": [
    "# import fungsi One Hot Encoder dari modul sklearn\n",
    "from sklearn.preprocessing import OneHotEncoder"
   ]
  },
  {
   "cell_type": "code",
   "execution_count": 114,
   "id": "cd7807e4-208f-4d69-9ae6-6b0a968cffd0",
   "metadata": {},
   "outputs": [],
   "source": [
    "ohe = OneHotEncoder(sparse_output=False)\n",
    "oh_encoded = ohe.fit_transform(data[['marital', 'housing']])"
   ]
  },
  {
   "cell_type": "code",
   "execution_count": 115,
   "id": "ced54ef7-defd-499f-800c-33c427edbbfe",
   "metadata": {},
   "outputs": [
    {
     "data": {
      "text/html": [
       "<div>\n",
       "<style scoped>\n",
       "    .dataframe tbody tr th:only-of-type {\n",
       "        vertical-align: middle;\n",
       "    }\n",
       "\n",
       "    .dataframe tbody tr th {\n",
       "        vertical-align: top;\n",
       "    }\n",
       "\n",
       "    .dataframe thead th {\n",
       "        text-align: right;\n",
       "    }\n",
       "</style>\n",
       "<table border=\"1\" class=\"dataframe\">\n",
       "  <thead>\n",
       "    <tr style=\"text-align: right;\">\n",
       "      <th></th>\n",
       "      <th>divorced</th>\n",
       "      <th>married</th>\n",
       "      <th>single</th>\n",
       "      <th>unknown</th>\n",
       "      <th>no</th>\n",
       "      <th>yes</th>\n",
       "      <th>unknown</th>\n",
       "    </tr>\n",
       "  </thead>\n",
       "  <tbody>\n",
       "    <tr>\n",
       "      <th>0</th>\n",
       "      <td>0.0</td>\n",
       "      <td>1.0</td>\n",
       "      <td>0.0</td>\n",
       "      <td>0.0</td>\n",
       "      <td>1.0</td>\n",
       "      <td>0.0</td>\n",
       "      <td>0.0</td>\n",
       "    </tr>\n",
       "    <tr>\n",
       "      <th>1</th>\n",
       "      <td>0.0</td>\n",
       "      <td>1.0</td>\n",
       "      <td>0.0</td>\n",
       "      <td>0.0</td>\n",
       "      <td>1.0</td>\n",
       "      <td>0.0</td>\n",
       "      <td>0.0</td>\n",
       "    </tr>\n",
       "    <tr>\n",
       "      <th>2</th>\n",
       "      <td>0.0</td>\n",
       "      <td>1.0</td>\n",
       "      <td>0.0</td>\n",
       "      <td>0.0</td>\n",
       "      <td>1.0</td>\n",
       "      <td>0.0</td>\n",
       "      <td>0.0</td>\n",
       "    </tr>\n",
       "    <tr>\n",
       "      <th>3</th>\n",
       "      <td>0.0</td>\n",
       "      <td>1.0</td>\n",
       "      <td>0.0</td>\n",
       "      <td>0.0</td>\n",
       "      <td>0.0</td>\n",
       "      <td>0.0</td>\n",
       "      <td>1.0</td>\n",
       "    </tr>\n",
       "    <tr>\n",
       "      <th>4</th>\n",
       "      <td>1.0</td>\n",
       "      <td>0.0</td>\n",
       "      <td>0.0</td>\n",
       "      <td>0.0</td>\n",
       "      <td>1.0</td>\n",
       "      <td>0.0</td>\n",
       "      <td>0.0</td>\n",
       "    </tr>\n",
       "    <tr>\n",
       "      <th>...</th>\n",
       "      <td>...</td>\n",
       "      <td>...</td>\n",
       "      <td>...</td>\n",
       "      <td>...</td>\n",
       "      <td>...</td>\n",
       "      <td>...</td>\n",
       "      <td>...</td>\n",
       "    </tr>\n",
       "    <tr>\n",
       "      <th>32945</th>\n",
       "      <td>0.0</td>\n",
       "      <td>0.0</td>\n",
       "      <td>1.0</td>\n",
       "      <td>0.0</td>\n",
       "      <td>0.0</td>\n",
       "      <td>0.0</td>\n",
       "      <td>1.0</td>\n",
       "    </tr>\n",
       "    <tr>\n",
       "      <th>32946</th>\n",
       "      <td>0.0</td>\n",
       "      <td>1.0</td>\n",
       "      <td>0.0</td>\n",
       "      <td>0.0</td>\n",
       "      <td>0.0</td>\n",
       "      <td>0.0</td>\n",
       "      <td>1.0</td>\n",
       "    </tr>\n",
       "    <tr>\n",
       "      <th>32947</th>\n",
       "      <td>0.0</td>\n",
       "      <td>1.0</td>\n",
       "      <td>0.0</td>\n",
       "      <td>0.0</td>\n",
       "      <td>1.0</td>\n",
       "      <td>0.0</td>\n",
       "      <td>0.0</td>\n",
       "    </tr>\n",
       "    <tr>\n",
       "      <th>32948</th>\n",
       "      <td>0.0</td>\n",
       "      <td>1.0</td>\n",
       "      <td>0.0</td>\n",
       "      <td>0.0</td>\n",
       "      <td>1.0</td>\n",
       "      <td>0.0</td>\n",
       "      <td>0.0</td>\n",
       "    </tr>\n",
       "    <tr>\n",
       "      <th>32949</th>\n",
       "      <td>0.0</td>\n",
       "      <td>1.0</td>\n",
       "      <td>0.0</td>\n",
       "      <td>0.0</td>\n",
       "      <td>1.0</td>\n",
       "      <td>0.0</td>\n",
       "      <td>0.0</td>\n",
       "    </tr>\n",
       "  </tbody>\n",
       "</table>\n",
       "<p>32950 rows × 7 columns</p>\n",
       "</div>"
      ],
      "text/plain": [
       "       divorced  married  single  unknown   no  yes  unknown\n",
       "0           0.0      1.0     0.0      0.0  1.0  0.0      0.0\n",
       "1           0.0      1.0     0.0      0.0  1.0  0.0      0.0\n",
       "2           0.0      1.0     0.0      0.0  1.0  0.0      0.0\n",
       "3           0.0      1.0     0.0      0.0  0.0  0.0      1.0\n",
       "4           1.0      0.0     0.0      0.0  1.0  0.0      0.0\n",
       "...         ...      ...     ...      ...  ...  ...      ...\n",
       "32945       0.0      0.0     1.0      0.0  0.0  0.0      1.0\n",
       "32946       0.0      1.0     0.0      0.0  0.0  0.0      1.0\n",
       "32947       0.0      1.0     0.0      0.0  1.0  0.0      0.0\n",
       "32948       0.0      1.0     0.0      0.0  1.0  0.0      0.0\n",
       "32949       0.0      1.0     0.0      0.0  1.0  0.0      0.0\n",
       "\n",
       "[32950 rows x 7 columns]"
      ]
     },
     "execution_count": 115,
     "metadata": {},
     "output_type": "execute_result"
    }
   ],
   "source": [
    "encoded = pd.DataFrame(oh_encoded,\n",
    "                      columns=['divorced','married','single','unknown','no','yes','unknown'])\n",
    "encoded"
   ]
  },
  {
   "cell_type": "code",
   "execution_count": 119,
   "id": "53fbbe70-ad81-45e8-83b8-b895fe9cc47f",
   "metadata": {},
   "outputs": [
    {
     "data": {
      "text/html": [
       "<div>\n",
       "<style scoped>\n",
       "    .dataframe tbody tr th:only-of-type {\n",
       "        vertical-align: middle;\n",
       "    }\n",
       "\n",
       "    .dataframe tbody tr th {\n",
       "        vertical-align: top;\n",
       "    }\n",
       "\n",
       "    .dataframe thead th {\n",
       "        text-align: right;\n",
       "    }\n",
       "</style>\n",
       "<table border=\"1\" class=\"dataframe\">\n",
       "  <thead>\n",
       "    <tr style=\"text-align: right;\">\n",
       "      <th></th>\n",
       "      <th>age</th>\n",
       "      <th>job</th>\n",
       "      <th>marital</th>\n",
       "      <th>education</th>\n",
       "      <th>default</th>\n",
       "      <th>housing</th>\n",
       "      <th>loan</th>\n",
       "      <th>contact</th>\n",
       "      <th>month</th>\n",
       "      <th>day_of_week</th>\n",
       "      <th>...</th>\n",
       "      <th>no</th>\n",
       "      <th>yes</th>\n",
       "      <th>unknown</th>\n",
       "      <th>divorced</th>\n",
       "      <th>married</th>\n",
       "      <th>single</th>\n",
       "      <th>unknown</th>\n",
       "      <th>no</th>\n",
       "      <th>yes</th>\n",
       "      <th>unknown</th>\n",
       "    </tr>\n",
       "  </thead>\n",
       "  <tbody>\n",
       "    <tr>\n",
       "      <th>0</th>\n",
       "      <td>49.0</td>\n",
       "      <td>blue-collar</td>\n",
       "      <td>married</td>\n",
       "      <td>basic.9y</td>\n",
       "      <td>unknown</td>\n",
       "      <td>no</td>\n",
       "      <td>no</td>\n",
       "      <td>cellular</td>\n",
       "      <td>nov</td>\n",
       "      <td>wed</td>\n",
       "      <td>...</td>\n",
       "      <td>1.0</td>\n",
       "      <td>0.0</td>\n",
       "      <td>0.0</td>\n",
       "      <td>0.0</td>\n",
       "      <td>1.0</td>\n",
       "      <td>0.0</td>\n",
       "      <td>0.0</td>\n",
       "      <td>1.0</td>\n",
       "      <td>0.0</td>\n",
       "      <td>0.0</td>\n",
       "    </tr>\n",
       "    <tr>\n",
       "      <th>1</th>\n",
       "      <td>37.0</td>\n",
       "      <td>entrepreneur</td>\n",
       "      <td>married</td>\n",
       "      <td>university.degree</td>\n",
       "      <td>no</td>\n",
       "      <td>no</td>\n",
       "      <td>no</td>\n",
       "      <td>telephone</td>\n",
       "      <td>nov</td>\n",
       "      <td>wed</td>\n",
       "      <td>...</td>\n",
       "      <td>1.0</td>\n",
       "      <td>0.0</td>\n",
       "      <td>0.0</td>\n",
       "      <td>0.0</td>\n",
       "      <td>1.0</td>\n",
       "      <td>0.0</td>\n",
       "      <td>0.0</td>\n",
       "      <td>1.0</td>\n",
       "      <td>0.0</td>\n",
       "      <td>0.0</td>\n",
       "    </tr>\n",
       "    <tr>\n",
       "      <th>2</th>\n",
       "      <td>78.0</td>\n",
       "      <td>retired</td>\n",
       "      <td>married</td>\n",
       "      <td>basic.4y</td>\n",
       "      <td>no</td>\n",
       "      <td>no</td>\n",
       "      <td>no</td>\n",
       "      <td>cellular</td>\n",
       "      <td>jul</td>\n",
       "      <td>mon</td>\n",
       "      <td>...</td>\n",
       "      <td>1.0</td>\n",
       "      <td>0.0</td>\n",
       "      <td>0.0</td>\n",
       "      <td>0.0</td>\n",
       "      <td>1.0</td>\n",
       "      <td>0.0</td>\n",
       "      <td>0.0</td>\n",
       "      <td>1.0</td>\n",
       "      <td>0.0</td>\n",
       "      <td>0.0</td>\n",
       "    </tr>\n",
       "    <tr>\n",
       "      <th>3</th>\n",
       "      <td>36.0</td>\n",
       "      <td>admin.</td>\n",
       "      <td>married</td>\n",
       "      <td>university.degree</td>\n",
       "      <td>no</td>\n",
       "      <td>yes</td>\n",
       "      <td>no</td>\n",
       "      <td>telephone</td>\n",
       "      <td>may</td>\n",
       "      <td>mon</td>\n",
       "      <td>...</td>\n",
       "      <td>0.0</td>\n",
       "      <td>0.0</td>\n",
       "      <td>1.0</td>\n",
       "      <td>0.0</td>\n",
       "      <td>1.0</td>\n",
       "      <td>0.0</td>\n",
       "      <td>0.0</td>\n",
       "      <td>0.0</td>\n",
       "      <td>0.0</td>\n",
       "      <td>1.0</td>\n",
       "    </tr>\n",
       "    <tr>\n",
       "      <th>4</th>\n",
       "      <td>59.0</td>\n",
       "      <td>retired</td>\n",
       "      <td>divorced</td>\n",
       "      <td>university.degree</td>\n",
       "      <td>no</td>\n",
       "      <td>no</td>\n",
       "      <td>no</td>\n",
       "      <td>cellular</td>\n",
       "      <td>jun</td>\n",
       "      <td>tue</td>\n",
       "      <td>...</td>\n",
       "      <td>1.0</td>\n",
       "      <td>0.0</td>\n",
       "      <td>0.0</td>\n",
       "      <td>1.0</td>\n",
       "      <td>0.0</td>\n",
       "      <td>0.0</td>\n",
       "      <td>0.0</td>\n",
       "      <td>1.0</td>\n",
       "      <td>0.0</td>\n",
       "      <td>0.0</td>\n",
       "    </tr>\n",
       "  </tbody>\n",
       "</table>\n",
       "<p>5 rows × 30 columns</p>\n",
       "</div>"
      ],
      "text/plain": [
       "    age           job   marital          education  default housing loan  \\\n",
       "0  49.0   blue-collar   married           basic.9y  unknown      no   no   \n",
       "1  37.0  entrepreneur   married  university.degree       no      no   no   \n",
       "2  78.0       retired   married           basic.4y       no      no   no   \n",
       "3  36.0        admin.   married  university.degree       no     yes   no   \n",
       "4  59.0       retired  divorced  university.degree       no      no   no   \n",
       "\n",
       "     contact month day_of_week  ...   no  yes  unknown  divorced married  \\\n",
       "0   cellular   nov         wed  ...  1.0  0.0      0.0       0.0     1.0   \n",
       "1  telephone   nov         wed  ...  1.0  0.0      0.0       0.0     1.0   \n",
       "2   cellular   jul         mon  ...  1.0  0.0      0.0       0.0     1.0   \n",
       "3  telephone   may         mon  ...  0.0  0.0      1.0       0.0     1.0   \n",
       "4   cellular   jun         tue  ...  1.0  0.0      0.0       1.0     0.0   \n",
       "\n",
       "  single  unknown   no  yes  unknown  \n",
       "0    0.0      0.0  1.0  0.0      0.0  \n",
       "1    0.0      0.0  1.0  0.0      0.0  \n",
       "2    0.0      0.0  1.0  0.0      0.0  \n",
       "3    0.0      0.0  0.0  0.0      1.0  \n",
       "4    0.0      0.0  1.0  0.0      0.0  \n",
       "\n",
       "[5 rows x 30 columns]"
      ]
     },
     "execution_count": 119,
     "metadata": {},
     "output_type": "execute_result"
    }
   ],
   "source": [
    "#jika dilihat di head maka kolom akan bertambah\n",
    "data = pd.concat([data, encoded], axis=1)\n",
    "data.head()"
   ]
  }
 ],
 "metadata": {
  "kernelspec": {
   "display_name": "Python 3 (ipykernel)",
   "language": "python",
   "name": "python3"
  },
  "language_info": {
   "codemirror_mode": {
    "name": "ipython",
    "version": 3
   },
   "file_extension": ".py",
   "mimetype": "text/x-python",
   "name": "python",
   "nbconvert_exporter": "python",
   "pygments_lexer": "ipython3",
   "version": "3.10.7"
  }
 },
 "nbformat": 4,
 "nbformat_minor": 5
}
