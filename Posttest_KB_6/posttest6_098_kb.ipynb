{
 "cells": [
  {
   "cell_type": "markdown",
   "id": "b7510952-2d2b-4ddc-b5c8-25372b73ec90",
   "metadata": {},
   "source": [
    "## Import Library"
   ]
  },
  {
   "cell_type": "code",
   "execution_count": 1,
   "id": "b8072bdb-bb61-4ef2-9a0d-baeef7f6b1bb",
   "metadata": {},
   "outputs": [
    {
     "name": "stderr",
     "output_type": "stream",
     "text": [
      "C:\\Users\\USER\\AppData\\Local\\Programs\\Python\\Python310\\lib\\site-packages\\scipy\\__init__.py:146: UserWarning: A NumPy version >=1.17.3 and <1.25.0 is required for this version of SciPy (detected version 1.26.1\n",
      "  warnings.warn(f\"A NumPy version >={np_minversion} and <{np_maxversion}\"\n"
     ]
    }
   ],
   "source": [
    "import pandas as pd\n",
    "import tensorflow as tf\n",
    "from tensorflow.keras import Sequential,layers\n",
    "import numpy as np\n",
    "from sklearn.model_selection import train_test_split\n",
    "from sklearn.metrics import accuracy_score\n",
    "from sklearn.preprocessing import LabelEncoder"
   ]
  },
  {
   "cell_type": "markdown",
   "id": "d8cf7992-f820-42e2-a235-03849babecd3",
   "metadata": {},
   "source": [
    "## Baca Dataset"
   ]
  },
  {
   "cell_type": "code",
   "execution_count": 2,
   "id": "edfdeacc-7476-43fb-b7db-f9a14379d8e8",
   "metadata": {},
   "outputs": [
    {
     "data": {
      "text/html": [
       "<div>\n",
       "<style scoped>\n",
       "    .dataframe tbody tr th:only-of-type {\n",
       "        vertical-align: middle;\n",
       "    }\n",
       "\n",
       "    .dataframe tbody tr th {\n",
       "        vertical-align: top;\n",
       "    }\n",
       "\n",
       "    .dataframe thead th {\n",
       "        text-align: right;\n",
       "    }\n",
       "</style>\n",
       "<table border=\"1\" class=\"dataframe\">\n",
       "  <thead>\n",
       "    <tr style=\"text-align: right;\">\n",
       "      <th></th>\n",
       "      <th>age</th>\n",
       "      <th>job</th>\n",
       "      <th>marital</th>\n",
       "      <th>education</th>\n",
       "      <th>default</th>\n",
       "      <th>housing</th>\n",
       "      <th>loan</th>\n",
       "      <th>contact</th>\n",
       "      <th>month</th>\n",
       "      <th>day_of_week</th>\n",
       "      <th>duration</th>\n",
       "      <th>campaign</th>\n",
       "      <th>pdays</th>\n",
       "      <th>previous</th>\n",
       "      <th>poutcome</th>\n",
       "      <th>y</th>\n",
       "    </tr>\n",
       "  </thead>\n",
       "  <tbody>\n",
       "    <tr>\n",
       "      <th>0</th>\n",
       "      <td>49</td>\n",
       "      <td>blue-collar</td>\n",
       "      <td>married</td>\n",
       "      <td>basic.9y</td>\n",
       "      <td>unknown</td>\n",
       "      <td>no</td>\n",
       "      <td>no</td>\n",
       "      <td>cellular</td>\n",
       "      <td>nov</td>\n",
       "      <td>wed</td>\n",
       "      <td>227</td>\n",
       "      <td>4</td>\n",
       "      <td>999</td>\n",
       "      <td>0</td>\n",
       "      <td>nonexistent</td>\n",
       "      <td>no</td>\n",
       "    </tr>\n",
       "    <tr>\n",
       "      <th>1</th>\n",
       "      <td>37</td>\n",
       "      <td>entrepreneur</td>\n",
       "      <td>married</td>\n",
       "      <td>university.degree</td>\n",
       "      <td>no</td>\n",
       "      <td>no</td>\n",
       "      <td>no</td>\n",
       "      <td>telephone</td>\n",
       "      <td>nov</td>\n",
       "      <td>wed</td>\n",
       "      <td>202</td>\n",
       "      <td>2</td>\n",
       "      <td>999</td>\n",
       "      <td>1</td>\n",
       "      <td>failure</td>\n",
       "      <td>no</td>\n",
       "    </tr>\n",
       "    <tr>\n",
       "      <th>2</th>\n",
       "      <td>78</td>\n",
       "      <td>retired</td>\n",
       "      <td>married</td>\n",
       "      <td>basic.4y</td>\n",
       "      <td>no</td>\n",
       "      <td>no</td>\n",
       "      <td>no</td>\n",
       "      <td>cellular</td>\n",
       "      <td>jul</td>\n",
       "      <td>mon</td>\n",
       "      <td>1148</td>\n",
       "      <td>1</td>\n",
       "      <td>999</td>\n",
       "      <td>0</td>\n",
       "      <td>nonexistent</td>\n",
       "      <td>yes</td>\n",
       "    </tr>\n",
       "    <tr>\n",
       "      <th>3</th>\n",
       "      <td>36</td>\n",
       "      <td>admin.</td>\n",
       "      <td>married</td>\n",
       "      <td>university.degree</td>\n",
       "      <td>no</td>\n",
       "      <td>yes</td>\n",
       "      <td>no</td>\n",
       "      <td>telephone</td>\n",
       "      <td>may</td>\n",
       "      <td>mon</td>\n",
       "      <td>120</td>\n",
       "      <td>2</td>\n",
       "      <td>999</td>\n",
       "      <td>0</td>\n",
       "      <td>nonexistent</td>\n",
       "      <td>no</td>\n",
       "    </tr>\n",
       "    <tr>\n",
       "      <th>4</th>\n",
       "      <td>59</td>\n",
       "      <td>retired</td>\n",
       "      <td>divorced</td>\n",
       "      <td>university.degree</td>\n",
       "      <td>no</td>\n",
       "      <td>no</td>\n",
       "      <td>no</td>\n",
       "      <td>cellular</td>\n",
       "      <td>jun</td>\n",
       "      <td>tue</td>\n",
       "      <td>368</td>\n",
       "      <td>2</td>\n",
       "      <td>999</td>\n",
       "      <td>0</td>\n",
       "      <td>nonexistent</td>\n",
       "      <td>no</td>\n",
       "    </tr>\n",
       "    <tr>\n",
       "      <th>...</th>\n",
       "      <td>...</td>\n",
       "      <td>...</td>\n",
       "      <td>...</td>\n",
       "      <td>...</td>\n",
       "      <td>...</td>\n",
       "      <td>...</td>\n",
       "      <td>...</td>\n",
       "      <td>...</td>\n",
       "      <td>...</td>\n",
       "      <td>...</td>\n",
       "      <td>...</td>\n",
       "      <td>...</td>\n",
       "      <td>...</td>\n",
       "      <td>...</td>\n",
       "      <td>...</td>\n",
       "      <td>...</td>\n",
       "    </tr>\n",
       "    <tr>\n",
       "      <th>32945</th>\n",
       "      <td>28</td>\n",
       "      <td>services</td>\n",
       "      <td>single</td>\n",
       "      <td>high.school</td>\n",
       "      <td>no</td>\n",
       "      <td>yes</td>\n",
       "      <td>no</td>\n",
       "      <td>cellular</td>\n",
       "      <td>jul</td>\n",
       "      <td>tue</td>\n",
       "      <td>192</td>\n",
       "      <td>1</td>\n",
       "      <td>999</td>\n",
       "      <td>0</td>\n",
       "      <td>nonexistent</td>\n",
       "      <td>no</td>\n",
       "    </tr>\n",
       "    <tr>\n",
       "      <th>32946</th>\n",
       "      <td>52</td>\n",
       "      <td>technician</td>\n",
       "      <td>married</td>\n",
       "      <td>professional.course</td>\n",
       "      <td>no</td>\n",
       "      <td>yes</td>\n",
       "      <td>no</td>\n",
       "      <td>cellular</td>\n",
       "      <td>nov</td>\n",
       "      <td>fri</td>\n",
       "      <td>64</td>\n",
       "      <td>1</td>\n",
       "      <td>999</td>\n",
       "      <td>1</td>\n",
       "      <td>failure</td>\n",
       "      <td>no</td>\n",
       "    </tr>\n",
       "    <tr>\n",
       "      <th>32947</th>\n",
       "      <td>54</td>\n",
       "      <td>admin.</td>\n",
       "      <td>married</td>\n",
       "      <td>basic.9y</td>\n",
       "      <td>no</td>\n",
       "      <td>no</td>\n",
       "      <td>yes</td>\n",
       "      <td>cellular</td>\n",
       "      <td>jul</td>\n",
       "      <td>mon</td>\n",
       "      <td>131</td>\n",
       "      <td>4</td>\n",
       "      <td>999</td>\n",
       "      <td>0</td>\n",
       "      <td>nonexistent</td>\n",
       "      <td>no</td>\n",
       "    </tr>\n",
       "    <tr>\n",
       "      <th>32948</th>\n",
       "      <td>29</td>\n",
       "      <td>admin.</td>\n",
       "      <td>married</td>\n",
       "      <td>university.degree</td>\n",
       "      <td>no</td>\n",
       "      <td>no</td>\n",
       "      <td>no</td>\n",
       "      <td>telephone</td>\n",
       "      <td>may</td>\n",
       "      <td>fri</td>\n",
       "      <td>165</td>\n",
       "      <td>1</td>\n",
       "      <td>999</td>\n",
       "      <td>0</td>\n",
       "      <td>nonexistent</td>\n",
       "      <td>no</td>\n",
       "    </tr>\n",
       "    <tr>\n",
       "      <th>32949</th>\n",
       "      <td>35</td>\n",
       "      <td>admin.</td>\n",
       "      <td>married</td>\n",
       "      <td>university.degree</td>\n",
       "      <td>no</td>\n",
       "      <td>no</td>\n",
       "      <td>yes</td>\n",
       "      <td>telephone</td>\n",
       "      <td>jun</td>\n",
       "      <td>tue</td>\n",
       "      <td>544</td>\n",
       "      <td>3</td>\n",
       "      <td>999</td>\n",
       "      <td>0</td>\n",
       "      <td>nonexistent</td>\n",
       "      <td>no</td>\n",
       "    </tr>\n",
       "  </tbody>\n",
       "</table>\n",
       "<p>32950 rows × 16 columns</p>\n",
       "</div>"
      ],
      "text/plain": [
       "       age           job   marital            education  default housing loan  \\\n",
       "0       49   blue-collar   married             basic.9y  unknown      no   no   \n",
       "1       37  entrepreneur   married    university.degree       no      no   no   \n",
       "2       78       retired   married             basic.4y       no      no   no   \n",
       "3       36        admin.   married    university.degree       no     yes   no   \n",
       "4       59       retired  divorced    university.degree       no      no   no   \n",
       "...    ...           ...       ...                  ...      ...     ...  ...   \n",
       "32945   28      services    single          high.school       no     yes   no   \n",
       "32946   52    technician   married  professional.course       no     yes   no   \n",
       "32947   54        admin.   married             basic.9y       no      no  yes   \n",
       "32948   29        admin.   married    university.degree       no      no   no   \n",
       "32949   35        admin.   married    university.degree       no      no  yes   \n",
       "\n",
       "         contact month day_of_week  duration  campaign  pdays  previous  \\\n",
       "0       cellular   nov         wed       227         4    999         0   \n",
       "1      telephone   nov         wed       202         2    999         1   \n",
       "2       cellular   jul         mon      1148         1    999         0   \n",
       "3      telephone   may         mon       120         2    999         0   \n",
       "4       cellular   jun         tue       368         2    999         0   \n",
       "...          ...   ...         ...       ...       ...    ...       ...   \n",
       "32945   cellular   jul         tue       192         1    999         0   \n",
       "32946   cellular   nov         fri        64         1    999         1   \n",
       "32947   cellular   jul         mon       131         4    999         0   \n",
       "32948  telephone   may         fri       165         1    999         0   \n",
       "32949  telephone   jun         tue       544         3    999         0   \n",
       "\n",
       "          poutcome    y  \n",
       "0      nonexistent   no  \n",
       "1          failure   no  \n",
       "2      nonexistent  yes  \n",
       "3      nonexistent   no  \n",
       "4      nonexistent   no  \n",
       "...            ...  ...  \n",
       "32945  nonexistent   no  \n",
       "32946      failure   no  \n",
       "32947  nonexistent   no  \n",
       "32948  nonexistent   no  \n",
       "32949  nonexistent   no  \n",
       "\n",
       "[32950 rows x 16 columns]"
      ]
     },
     "execution_count": 2,
     "metadata": {},
     "output_type": "execute_result"
    }
   ],
   "source": [
    "data = pd.read_csv('new_train.csv')\n",
    "data"
   ]
  },
  {
   "cell_type": "markdown",
   "id": "9d1c8215-10af-47bc-84ad-a31f3ab8adfc",
   "metadata": {},
   "source": [
    "## Split data menjadi train dan test"
   ]
  },
  {
   "cell_type": "code",
   "execution_count": 3,
   "id": "09721d36-0572-4157-be02-8d01ac6e01ce",
   "metadata": {},
   "outputs": [
    {
     "name": "stdout",
     "output_type": "stream",
     "text": [
      "<class 'pandas.core.frame.DataFrame'>\n",
      "RangeIndex: 32950 entries, 0 to 32949\n",
      "Data columns (total 16 columns):\n",
      " #   Column       Non-Null Count  Dtype  \n",
      "---  ------       --------------  -----  \n",
      " 0   age          32950 non-null  float64\n",
      " 1   job          32950 non-null  object \n",
      " 2   marital      32950 non-null  object \n",
      " 3   education    32950 non-null  object \n",
      " 4   default      32950 non-null  object \n",
      " 5   housing      32950 non-null  object \n",
      " 6   loan         32950 non-null  float64\n",
      " 7   contact      32950 non-null  object \n",
      " 8   month        32950 non-null  object \n",
      " 9   day_of_week  32950 non-null  object \n",
      " 10  duration     32950 non-null  float64\n",
      " 11  campaign     32950 non-null  int64  \n",
      " 12  pdays        32950 non-null  int64  \n",
      " 13  previous     32950 non-null  int64  \n",
      " 14  poutcome     32950 non-null  object \n",
      " 15  y            32950 non-null  object \n",
      "dtypes: float64(3), int64(3), object(10)\n",
      "memory usage: 4.0+ MB\n"
     ]
    }
   ],
   "source": [
    "#ubah target dan fitur menjadi float\n",
    "le = LabelEncoder()\n",
    "data['loan'] = le.fit_transform(data['loan']).astype('float64')\n",
    "data['age'] = le.fit_transform(data['age']).astype('float64')\n",
    "data['duration'] = le.fit_transform(data['duration']).astype('float64')\n",
    "data.info()"
   ]
  },
  {
   "cell_type": "code",
   "execution_count": 4,
   "id": "40bc653d-a51a-4d0a-8fdd-01953e03c9c7",
   "metadata": {},
   "outputs": [
    {
     "name": "stdout",
     "output_type": "stream",
     "text": [
      "______ TRAIN TEST SPLIT ______\n",
      "______________________________\n",
      "| Dimensi x_train | (16475, 2) |\n",
      "| Dimensi x_test  | (16475, 2) |\n",
      "| Dimensi y_train | (16475,)   |\n",
      "| Dimensi y_test  | (16475,)   |\n",
      "______________________________\n"
     ]
    }
   ],
   "source": [
    "x = data[['age','duration']]\n",
    "y = data['loan'] \n",
    "\n",
    "x_train, x_test, y_train, y_test = train_test_split(x, y, test_size = 0.5)\n",
    "\n",
    "print (\"______ TRAIN TEST SPLIT ______\")\n",
    "print (\"______________________________\")\n",
    "print (\"| Dimensi x_train |\", x_train.shape, \"|\")\n",
    "print (\"| Dimensi x_test  |\", x_test.shape, \"|\")\n",
    "print (\"| Dimensi y_train |\", y_train.shape, \"  |\")\n",
    "print (\"| Dimensi y_test  |\", y_test.shape, \"  |\")\n",
    "print (\"______________________________\")"
   ]
  },
  {
   "cell_type": "markdown",
   "id": "a0d7a89b-baa0-42f1-94f7-007e78349def",
   "metadata": {},
   "source": [
    "## Lakukan Preprocessing (saya akan melakukan cleaning  pada data duplicated)"
   ]
  },
  {
   "cell_type": "code",
   "execution_count": 5,
   "id": "8a4ad381-f517-44f6-ae8d-34beb4607969",
   "metadata": {},
   "outputs": [
    {
     "name": "stdout",
     "output_type": "stream",
     "text": [
      "Data Duplicated :  8\n"
     ]
    }
   ],
   "source": [
    "# cek data duplicated\n",
    "print(\"Data Duplicated : \",data.duplicated().sum())"
   ]
  },
  {
   "cell_type": "code",
   "execution_count": 6,
   "id": "88407a7d-f69d-4358-a01c-2f3f2f6953c8",
   "metadata": {},
   "outputs": [
    {
     "name": "stdout",
     "output_type": "stream",
     "text": [
      "Jumlah data duplicated setelah melakukan data cleaning dengan fungsi drop_duplicated\n",
      "Data Duplicated :  0\n"
     ]
    }
   ],
   "source": [
    "# melakukan cleaning data duplicated\n",
    "data.drop_duplicates(inplace = True)\n",
    "data.duplicated().sum()\n",
    "print(\"Jumlah data duplicated setelah melakukan data cleaning dengan fungsi drop_duplicated\")\n",
    "print(\"Data Duplicated : \", data.duplicated().sum())"
   ]
  },
  {
   "cell_type": "markdown",
   "id": "d36eeff3-fa74-466b-8656-1a34f18fcd0b",
   "metadata": {},
   "source": [
    "## Gunakan Sequential Model"
   ]
  },
  {
   "cell_type": "code",
   "execution_count": 7,
   "id": "5ad7315a-aaad-4dd6-bfd4-c2ea5b895019",
   "metadata": {},
   "outputs": [
    {
     "data": {
      "text/plain": [
       "(16475, 2)"
      ]
     },
     "execution_count": 7,
     "metadata": {},
     "output_type": "execute_result"
    }
   ],
   "source": [
    "# cek shape untuk menyesuaikan di input layer\n",
    "x_train.shape"
   ]
  },
  {
   "cell_type": "code",
   "execution_count": 8,
   "id": "12da1168-ce57-43b8-bd04-f54e2eb8b6c0",
   "metadata": {},
   "outputs": [
    {
     "name": "stdout",
     "output_type": "stream",
     "text": [
      "<class 'pandas.core.frame.DataFrame'>\n",
      "RangeIndex: 32950 entries, 0 to 32949\n",
      "Data columns (total 2 columns):\n",
      " #   Column    Non-Null Count  Dtype  \n",
      "---  ------    --------------  -----  \n",
      " 0   age       32950 non-null  float64\n",
      " 1   duration  32950 non-null  float64\n",
      "dtypes: float64(2)\n",
      "memory usage: 515.0 KB\n"
     ]
    }
   ],
   "source": [
    "x.info()"
   ]
  },
  {
   "cell_type": "code",
   "execution_count": 9,
   "id": "59cbc297-789e-4b15-b99c-0450c38074e2",
   "metadata": {},
   "outputs": [],
   "source": [
    "model = Sequential([\n",
    "    layers.Dense(16,activation = 'relu',input_shape =(2,)),\n",
    "    layers.Dense(32,activation = 'relu'),\n",
    "    layers.Dense(1,activation = 'sigmoid')\n",
    "])"
   ]
  },
  {
   "cell_type": "markdown",
   "id": "47af85ce-eb60-43ae-82a3-2b05e40a1dde",
   "metadata": {},
   "source": [
    "## Sesuaikan loss dan metrics dengan target"
   ]
  },
  {
   "cell_type": "code",
   "execution_count": 10,
   "id": "e42c1876-d914-4ad3-9b52-6ab7bdb282db",
   "metadata": {},
   "outputs": [],
   "source": [
    "model.compile(optimizer = 'adam',\n",
    "             loss = 'binary_crossentropy',\n",
    "             metrics = ['accuracy'])"
   ]
  },
  {
   "cell_type": "code",
   "execution_count": 11,
   "id": "87106a67-0970-4b3c-a5b0-deb4b5cabfd6",
   "metadata": {},
   "outputs": [
    {
     "name": "stdout",
     "output_type": "stream",
     "text": [
      "Model: \"sequential\"\n",
      "_________________________________________________________________\n",
      " Layer (type)                Output Shape              Param #   \n",
      "=================================================================\n",
      " dense (Dense)               (None, 16)                48        \n",
      "                                                                 \n",
      " dense_1 (Dense)             (None, 32)                544       \n",
      "                                                                 \n",
      " dense_2 (Dense)             (None, 1)                 33        \n",
      "                                                                 \n",
      "=================================================================\n",
      "Total params: 625 (2.44 KB)\n",
      "Trainable params: 625 (2.44 KB)\n",
      "Non-trainable params: 0 (0.00 Byte)\n",
      "_________________________________________________________________\n"
     ]
    }
   ],
   "source": [
    "model.summary()"
   ]
  },
  {
   "cell_type": "markdown",
   "id": "0b5db143-7053-4918-81b6-4d824fd14ec9",
   "metadata": {},
   "source": [
    "## Lakukan evaluasi model terhadap data test"
   ]
  },
  {
   "cell_type": "markdown",
   "id": "be91df23-7637-4f38-b797-e4ce57a4b80b",
   "metadata": {},
   "source": [
    "### Buat Callback untuk membuat batasan pada accuracy"
   ]
  },
  {
   "cell_type": "code",
   "execution_count": 12,
   "id": "145e3657-2491-4c49-a09b-2d339e140747",
   "metadata": {},
   "outputs": [],
   "source": [
    "from tensorflow.keras.callbacks import Callback\n",
    "\n",
    "class CustomCallback(Callback):\n",
    "    def on_epoch_end(self, epoch, logs=None):\n",
    "        if logs.get('accuracy') is not None and logs.get('accuracy') >= 0.85:\n",
    "            print(\"\\nAkurasi telah mencapai 80%, proses pelatihan dihentikan.\")\n",
    "            self.model.stop_training = True\n",
    "     \n",
    "\n",
    "custom_callback = CustomCallback()\n",
    "     "
   ]
  },
  {
   "cell_type": "markdown",
   "id": "b5ba9211-dafa-49f5-8e24-d26fdae07bbf",
   "metadata": {},
   "source": [
    "### Training model terlebih dahulu"
   ]
  },
  {
   "cell_type": "code",
   "execution_count": 13,
   "id": "93debe5e-2d66-4f11-93d8-af2a0da6603a",
   "metadata": {},
   "outputs": [
    {
     "name": "stdout",
     "output_type": "stream",
     "text": [
      "Epoch 1/100\n",
      "515/515 [==============================] - 5s 7ms/step - loss: 0.8870 - accuracy: 0.6625 - val_loss: 0.9911 - val_accuracy: 0.8209\n",
      "Epoch 2/100\n",
      "515/515 [==============================] - 3s 7ms/step - loss: 0.7659 - accuracy: 0.7215 - val_loss: 0.6450 - val_accuracy: 0.8209\n",
      "Epoch 3/100\n",
      "515/515 [==============================] - 3s 7ms/step - loss: 0.7857 - accuracy: 0.7125 - val_loss: 0.9685 - val_accuracy: 0.8191\n",
      "Epoch 4/100\n",
      "515/515 [==============================] - 4s 7ms/step - loss: 0.7743 - accuracy: 0.7145 - val_loss: 1.1304 - val_accuracy: 0.8210\n",
      "Epoch 5/100\n",
      "515/515 [==============================] - 4s 7ms/step - loss: 0.7741 - accuracy: 0.7073 - val_loss: 0.9072 - val_accuracy: 0.8211\n",
      "Epoch 6/100\n",
      "515/515 [==============================] - 3s 7ms/step - loss: 0.8115 - accuracy: 0.6907 - val_loss: 0.6924 - val_accuracy: 0.8211\n",
      "Epoch 7/100\n",
      "515/515 [==============================] - 3s 7ms/step - loss: 0.7515 - accuracy: 0.7358 - val_loss: 0.6389 - val_accuracy: 0.8206\n",
      "Epoch 8/100\n",
      "515/515 [==============================] - 3s 7ms/step - loss: 0.7219 - accuracy: 0.7514 - val_loss: 0.7488 - val_accuracy: 0.3948\n",
      "Epoch 9/100\n",
      "515/515 [==============================] - 3s 7ms/step - loss: 0.7763 - accuracy: 0.7218 - val_loss: 0.6462 - val_accuracy: 0.8202\n",
      "Epoch 10/100\n",
      "515/515 [==============================] - 3s 7ms/step - loss: 0.7016 - accuracy: 0.7604 - val_loss: 0.7744 - val_accuracy: 0.4861\n",
      "Epoch 11/100\n",
      "515/515 [==============================] - 3s 7ms/step - loss: 0.7510 - accuracy: 0.7245 - val_loss: 0.6682 - val_accuracy: 0.7093\n",
      "Epoch 12/100\n",
      "515/515 [==============================] - 3s 7ms/step - loss: 0.6808 - accuracy: 0.7721 - val_loss: 0.6891 - val_accuracy: 0.6195\n",
      "Epoch 13/100\n",
      "515/515 [==============================] - 4s 7ms/step - loss: 0.7238 - accuracy: 0.7392 - val_loss: 0.6834 - val_accuracy: 0.6694\n",
      "Epoch 14/100\n",
      "515/515 [==============================] - 4s 7ms/step - loss: 0.7107 - accuracy: 0.7528 - val_loss: 0.6408 - val_accuracy: 0.8203\n",
      "Epoch 15/100\n",
      "515/515 [==============================] - 3s 7ms/step - loss: 0.6931 - accuracy: 0.7643 - val_loss: 0.7099 - val_accuracy: 0.8190\n",
      "Epoch 16/100\n",
      "515/515 [==============================] - 3s 7ms/step - loss: 0.7145 - accuracy: 0.7539 - val_loss: 0.6594 - val_accuracy: 0.8166\n",
      "Epoch 17/100\n",
      "515/515 [==============================] - 3s 7ms/step - loss: 0.7085 - accuracy: 0.7605 - val_loss: 0.6747 - val_accuracy: 0.6706\n",
      "Epoch 18/100\n",
      "515/515 [==============================] - 4s 7ms/step - loss: 0.7040 - accuracy: 0.7555 - val_loss: 0.6445 - val_accuracy: 0.8185\n",
      "Epoch 19/100\n",
      "515/515 [==============================] - 4s 7ms/step - loss: 0.6946 - accuracy: 0.7594 - val_loss: 0.6569 - val_accuracy: 0.7714\n",
      "Epoch 20/100\n",
      "515/515 [==============================] - 4s 7ms/step - loss: 0.6998 - accuracy: 0.7618 - val_loss: 0.6589 - val_accuracy: 0.8211\n",
      "Epoch 21/100\n",
      "515/515 [==============================] - 4s 7ms/step - loss: 0.6797 - accuracy: 0.7733 - val_loss: 0.6505 - val_accuracy: 0.8052\n",
      "Epoch 22/100\n",
      "515/515 [==============================] - 4s 7ms/step - loss: 0.6893 - accuracy: 0.7639 - val_loss: 0.6717 - val_accuracy: 0.8211\n",
      "Epoch 23/100\n",
      "515/515 [==============================] - 4s 7ms/step - loss: 0.6797 - accuracy: 0.7717 - val_loss: 0.7139 - val_accuracy: 0.8211\n",
      "Epoch 24/100\n",
      "515/515 [==============================] - 4s 8ms/step - loss: 0.6610 - accuracy: 0.7843 - val_loss: 0.6396 - val_accuracy: 0.8211\n",
      "Epoch 25/100\n",
      "515/515 [==============================] - 4s 7ms/step - loss: 0.6665 - accuracy: 0.7848 - val_loss: 0.6392 - val_accuracy: 0.8211\n",
      "Epoch 26/100\n",
      "515/515 [==============================] - 3s 6ms/step - loss: 0.6756 - accuracy: 0.7841 - val_loss: 0.8154 - val_accuracy: 0.8211\n",
      "Epoch 27/100\n",
      "515/515 [==============================] - 4s 8ms/step - loss: 0.6713 - accuracy: 0.7844 - val_loss: 0.6969 - val_accuracy: 0.8211\n",
      "Epoch 28/100\n",
      "515/515 [==============================] - 4s 7ms/step - loss: 0.6639 - accuracy: 0.7883 - val_loss: 0.6393 - val_accuracy: 0.8210\n",
      "Epoch 29/100\n",
      "515/515 [==============================] - 4s 8ms/step - loss: 0.6678 - accuracy: 0.7880 - val_loss: 0.6386 - val_accuracy: 0.8211\n",
      "Epoch 30/100\n",
      "515/515 [==============================] - 4s 7ms/step - loss: 0.6621 - accuracy: 0.7962 - val_loss: 0.6377 - val_accuracy: 0.8211\n",
      "Epoch 31/100\n",
      "515/515 [==============================] - 4s 9ms/step - loss: 0.6592 - accuracy: 0.7944 - val_loss: 0.6383 - val_accuracy: 0.8211\n",
      "Epoch 32/100\n",
      "515/515 [==============================] - 4s 8ms/step - loss: 0.6671 - accuracy: 0.7764 - val_loss: 0.6385 - val_accuracy: 0.8210\n",
      "Epoch 33/100\n",
      "515/515 [==============================] - 4s 8ms/step - loss: 0.6575 - accuracy: 0.7965 - val_loss: 0.6558 - val_accuracy: 0.8211\n",
      "Epoch 34/100\n",
      "515/515 [==============================] - 4s 7ms/step - loss: 0.6607 - accuracy: 0.7906 - val_loss: 0.6398 - val_accuracy: 0.8211\n",
      "Epoch 35/100\n",
      "515/515 [==============================] - 4s 7ms/step - loss: 0.6496 - accuracy: 0.8029 - val_loss: 0.6418 - val_accuracy: 0.8211\n",
      "Epoch 36/100\n",
      "515/515 [==============================] - 3s 7ms/step - loss: 0.6477 - accuracy: 0.8032 - val_loss: 0.6462 - val_accuracy: 0.8211\n",
      "Epoch 37/100\n",
      "515/515 [==============================] - 4s 7ms/step - loss: 0.6493 - accuracy: 0.7988 - val_loss: 0.6397 - val_accuracy: 0.8211\n",
      "Epoch 38/100\n",
      "515/515 [==============================] - 4s 7ms/step - loss: 0.6481 - accuracy: 0.8070 - val_loss: 0.6470 - val_accuracy: 0.8209\n",
      "Epoch 39/100\n",
      "515/515 [==============================] - 4s 7ms/step - loss: 0.6476 - accuracy: 0.8046 - val_loss: 0.6498 - val_accuracy: 0.8211\n",
      "Epoch 40/100\n",
      "515/515 [==============================] - 4s 8ms/step - loss: 0.6489 - accuracy: 0.8066 - val_loss: 0.6658 - val_accuracy: 0.8211\n",
      "Epoch 41/100\n",
      "515/515 [==============================] - 9s 17ms/step - loss: 0.6432 - accuracy: 0.8097 - val_loss: 0.6537 - val_accuracy: 0.7605\n",
      "Epoch 42/100\n",
      "515/515 [==============================] - 11s 22ms/step - loss: 0.6430 - accuracy: 0.8100 - val_loss: 0.6554 - val_accuracy: 0.7528\n",
      "Epoch 43/100\n",
      "515/515 [==============================] - 5s 10ms/step - loss: 0.6463 - accuracy: 0.8078 - val_loss: 0.6409 - val_accuracy: 0.8211\n",
      "Epoch 44/100\n",
      "515/515 [==============================] - 4s 7ms/step - loss: 0.6419 - accuracy: 0.8103 - val_loss: 0.6382 - val_accuracy: 0.8211\n",
      "Epoch 45/100\n",
      "515/515 [==============================] - 5s 9ms/step - loss: 0.6380 - accuracy: 0.8114 - val_loss: 0.6839 - val_accuracy: 0.8211\n",
      "Epoch 46/100\n",
      "515/515 [==============================] - 4s 8ms/step - loss: 0.6427 - accuracy: 0.8123 - val_loss: 0.6645 - val_accuracy: 0.7216\n",
      "Epoch 47/100\n",
      "515/515 [==============================] - 4s 8ms/step - loss: 0.6378 - accuracy: 0.8146 - val_loss: 0.6553 - val_accuracy: 0.8211\n",
      "Epoch 48/100\n",
      "515/515 [==============================] - 4s 7ms/step - loss: 0.6370 - accuracy: 0.8174 - val_loss: 0.6497 - val_accuracy: 0.7724\n",
      "Epoch 49/100\n",
      "515/515 [==============================] - 4s 7ms/step - loss: 0.6387 - accuracy: 0.8141 - val_loss: 0.6667 - val_accuracy: 0.7137\n",
      "Epoch 50/100\n",
      "515/515 [==============================] - 4s 7ms/step - loss: 0.6361 - accuracy: 0.8196 - val_loss: 0.6460 - val_accuracy: 0.7872\n",
      "Epoch 51/100\n",
      "515/515 [==============================] - 4s 7ms/step - loss: 0.6356 - accuracy: 0.8192 - val_loss: 0.6421 - val_accuracy: 0.8211\n",
      "Epoch 52/100\n",
      "515/515 [==============================] - 4s 7ms/step - loss: 0.6356 - accuracy: 0.8163 - val_loss: 0.6391 - val_accuracy: 0.8211\n",
      "Epoch 53/100\n",
      "515/515 [==============================] - 4s 7ms/step - loss: 0.6328 - accuracy: 0.8222 - val_loss: 0.6374 - val_accuracy: 0.8211\n",
      "Epoch 54/100\n",
      "515/515 [==============================] - 4s 7ms/step - loss: 0.6330 - accuracy: 0.8198 - val_loss: 0.6419 - val_accuracy: 0.8211\n",
      "Epoch 55/100\n",
      "515/515 [==============================] - 3s 6ms/step - loss: 0.6337 - accuracy: 0.8234 - val_loss: 0.6381 - val_accuracy: 0.8211\n",
      "Epoch 56/100\n",
      "515/515 [==============================] - 3s 6ms/step - loss: 0.6340 - accuracy: 0.8217 - val_loss: 0.6371 - val_accuracy: 0.8211\n",
      "Epoch 57/100\n",
      "515/515 [==============================] - 3s 6ms/step - loss: 0.6317 - accuracy: 0.8242 - val_loss: 0.6372 - val_accuracy: 0.8211\n",
      "Epoch 58/100\n",
      "515/515 [==============================] - 3s 6ms/step - loss: 0.6321 - accuracy: 0.8252 - val_loss: 0.6382 - val_accuracy: 0.8211\n",
      "Epoch 59/100\n",
      "515/515 [==============================] - 3s 6ms/step - loss: 0.6317 - accuracy: 0.8254 - val_loss: 0.6438 - val_accuracy: 0.8211\n",
      "Epoch 60/100\n",
      "515/515 [==============================] - 3s 7ms/step - loss: 0.6314 - accuracy: 0.8250 - val_loss: 0.6371 - val_accuracy: 0.8211\n",
      "Epoch 61/100\n",
      "515/515 [==============================] - 5s 9ms/step - loss: 0.6307 - accuracy: 0.8248 - val_loss: 0.6375 - val_accuracy: 0.8211\n",
      "Epoch 62/100\n",
      "515/515 [==============================] - 4s 7ms/step - loss: 0.6318 - accuracy: 0.8254 - val_loss: 0.6374 - val_accuracy: 0.8211\n",
      "Epoch 63/100\n",
      "515/515 [==============================] - 3s 7ms/step - loss: 0.6302 - accuracy: 0.8257 - val_loss: 0.6370 - val_accuracy: 0.8211\n",
      "Epoch 64/100\n",
      "515/515 [==============================] - 3s 7ms/step - loss: 0.6302 - accuracy: 0.8257 - val_loss: 0.6369 - val_accuracy: 0.8211\n",
      "Epoch 65/100\n",
      "515/515 [==============================] - 3s 6ms/step - loss: 0.6301 - accuracy: 0.8257 - val_loss: 0.6372 - val_accuracy: 0.8211\n",
      "Epoch 66/100\n",
      "515/515 [==============================] - 3s 7ms/step - loss: 0.6297 - accuracy: 0.8257 - val_loss: 0.6384 - val_accuracy: 0.8211\n",
      "Epoch 67/100\n",
      "515/515 [==============================] - 3s 7ms/step - loss: 0.6301 - accuracy: 0.8257 - val_loss: 0.6372 - val_accuracy: 0.8211\n",
      "Epoch 68/100\n",
      "515/515 [==============================] - 3s 7ms/step - loss: 0.6299 - accuracy: 0.8257 - val_loss: 0.6375 - val_accuracy: 0.8211\n",
      "Epoch 69/100\n",
      "515/515 [==============================] - 3s 7ms/step - loss: 0.6298 - accuracy: 0.8257 - val_loss: 0.6375 - val_accuracy: 0.8211\n",
      "Epoch 70/100\n",
      "515/515 [==============================] - 4s 7ms/step - loss: 0.6298 - accuracy: 0.8257 - val_loss: 0.6372 - val_accuracy: 0.8211\n",
      "Epoch 71/100\n",
      "515/515 [==============================] - 4s 7ms/step - loss: 0.6297 - accuracy: 0.8257 - val_loss: 0.6377 - val_accuracy: 0.8211\n",
      "Epoch 72/100\n",
      "515/515 [==============================] - 4s 8ms/step - loss: 0.6299 - accuracy: 0.8257 - val_loss: 0.6375 - val_accuracy: 0.8211\n",
      "Epoch 73/100\n",
      "515/515 [==============================] - 3s 7ms/step - loss: 0.6299 - accuracy: 0.8257 - val_loss: 0.6373 - val_accuracy: 0.8211\n",
      "Epoch 74/100\n",
      "515/515 [==============================] - 3s 6ms/step - loss: 0.6298 - accuracy: 0.8257 - val_loss: 0.6372 - val_accuracy: 0.8211\n",
      "Epoch 75/100\n",
      "515/515 [==============================] - 3s 6ms/step - loss: 0.6299 - accuracy: 0.8257 - val_loss: 0.6374 - val_accuracy: 0.8211\n",
      "Epoch 76/100\n",
      "515/515 [==============================] - 3s 6ms/step - loss: 0.6299 - accuracy: 0.8257 - val_loss: 0.6373 - val_accuracy: 0.8211\n",
      "Epoch 77/100\n",
      "515/515 [==============================] - 3s 6ms/step - loss: 0.6298 - accuracy: 0.8257 - val_loss: 0.6376 - val_accuracy: 0.8211\n",
      "Epoch 78/100\n",
      "515/515 [==============================] - 3s 7ms/step - loss: 0.6298 - accuracy: 0.8257 - val_loss: 0.6378 - val_accuracy: 0.8211\n",
      "Epoch 79/100\n",
      "515/515 [==============================] - 3s 6ms/step - loss: 0.6303 - accuracy: 0.8257 - val_loss: 0.6379 - val_accuracy: 0.8211\n",
      "Epoch 80/100\n",
      "515/515 [==============================] - 3s 6ms/step - loss: 0.6299 - accuracy: 0.8257 - val_loss: 0.6377 - val_accuracy: 0.8211\n",
      "Epoch 81/100\n",
      "515/515 [==============================] - 3s 7ms/step - loss: 0.6299 - accuracy: 0.8257 - val_loss: 0.6374 - val_accuracy: 0.8211\n",
      "Epoch 82/100\n",
      "515/515 [==============================] - 3s 7ms/step - loss: 0.6299 - accuracy: 0.8257 - val_loss: 0.6373 - val_accuracy: 0.8211\n",
      "Epoch 83/100\n",
      "515/515 [==============================] - 4s 7ms/step - loss: 0.6299 - accuracy: 0.8257 - val_loss: 0.6377 - val_accuracy: 0.8211\n",
      "Epoch 84/100\n",
      "515/515 [==============================] - 4s 7ms/step - loss: 0.6299 - accuracy: 0.8257 - val_loss: 0.6379 - val_accuracy: 0.8211\n",
      "Epoch 85/100\n",
      "515/515 [==============================] - 4s 7ms/step - loss: 0.6299 - accuracy: 0.8257 - val_loss: 0.6375 - val_accuracy: 0.8211\n",
      "Epoch 86/100\n",
      "515/515 [==============================] - 3s 6ms/step - loss: 0.6299 - accuracy: 0.8257 - val_loss: 0.6376 - val_accuracy: 0.8211\n",
      "Epoch 87/100\n",
      "515/515 [==============================] - 3s 7ms/step - loss: 0.6300 - accuracy: 0.8257 - val_loss: 0.6375 - val_accuracy: 0.8211\n",
      "Epoch 88/100\n",
      "515/515 [==============================] - 4s 7ms/step - loss: 0.6298 - accuracy: 0.8257 - val_loss: 0.6374 - val_accuracy: 0.8211\n",
      "Epoch 89/100\n",
      "515/515 [==============================] - 3s 7ms/step - loss: 0.6298 - accuracy: 0.8257 - val_loss: 0.6374 - val_accuracy: 0.8211\n",
      "Epoch 90/100\n",
      "515/515 [==============================] - 4s 7ms/step - loss: 0.6300 - accuracy: 0.8257 - val_loss: 0.6373 - val_accuracy: 0.8211\n",
      "Epoch 91/100\n",
      "515/515 [==============================] - 3s 7ms/step - loss: 0.6297 - accuracy: 0.8257 - val_loss: 0.6371 - val_accuracy: 0.8211\n",
      "Epoch 92/100\n",
      "515/515 [==============================] - 3s 7ms/step - loss: 0.6298 - accuracy: 0.8257 - val_loss: 0.6375 - val_accuracy: 0.8211\n",
      "Epoch 93/100\n",
      "515/515 [==============================] - 4s 7ms/step - loss: 0.6298 - accuracy: 0.8257 - val_loss: 0.6376 - val_accuracy: 0.8211\n",
      "Epoch 94/100\n",
      "515/515 [==============================] - 4s 7ms/step - loss: 0.6298 - accuracy: 0.8257 - val_loss: 0.6374 - val_accuracy: 0.8211\n",
      "Epoch 95/100\n",
      "515/515 [==============================] - 4s 7ms/step - loss: 0.6298 - accuracy: 0.8257 - val_loss: 0.6373 - val_accuracy: 0.8211\n",
      "Epoch 96/100\n",
      "515/515 [==============================] - 3s 7ms/step - loss: 0.6298 - accuracy: 0.8257 - val_loss: 0.6373 - val_accuracy: 0.8211\n",
      "Epoch 97/100\n",
      "515/515 [==============================] - 3s 6ms/step - loss: 0.6299 - accuracy: 0.8257 - val_loss: 0.6373 - val_accuracy: 0.8211\n",
      "Epoch 98/100\n",
      "515/515 [==============================] - 3s 6ms/step - loss: 0.6298 - accuracy: 0.8257 - val_loss: 0.6374 - val_accuracy: 0.8211\n",
      "Epoch 99/100\n",
      "515/515 [==============================] - 3s 6ms/step - loss: 0.6297 - accuracy: 0.8257 - val_loss: 0.6371 - val_accuracy: 0.8211\n",
      "Epoch 100/100\n",
      "515/515 [==============================] - 3s 6ms/step - loss: 0.6298 - accuracy: 0.8257 - val_loss: 0.6372 - val_accuracy: 0.8211\n"
     ]
    }
   ],
   "source": [
    "data_train = model.fit(x_train,y_train, epochs = 100 ,validation_data = (x_test, y_test) ,callbacks=[custom_callback])"
   ]
  },
  {
   "cell_type": "markdown",
   "id": "15d352ad-2140-409b-9cfb-dcc5bba10123",
   "metadata": {},
   "source": [
    "### Akurasi di evaluate model"
   ]
  },
  {
   "cell_type": "code",
   "execution_count": 14,
   "id": "df43dea4-6c31-41d7-b680-622cf284e32f",
   "metadata": {},
   "outputs": [
    {
     "name": "stdout",
     "output_type": "stream",
     "text": [
      "Test loss: 0.6372430324554443\n",
      "Test accuracy: 0.8210622072219849\n"
     ]
    }
   ],
   "source": [
    "score = model.evaluate(x_test, y_test, verbose=0)\n",
    "print('Test loss:', score[0])\n",
    "print('Test accuracy:', score[1])"
   ]
  },
  {
   "cell_type": "markdown",
   "id": "45ff6a97-878e-414d-abb6-ed57ab32abdd",
   "metadata": {},
   "source": [
    "## Grafik Akurasi"
   ]
  },
  {
   "cell_type": "code",
   "execution_count": 15,
   "id": "9a92e3af-a059-4d82-8a68-32a56d4778fc",
   "metadata": {},
   "outputs": [
    {
     "data": {
      "image/png": "[encoded data removed]",
      "text/plain": [
       "<Figure size 640x480 with 1 Axes>"
      ]
     },
     "metadata": {},
     "output_type": "display_data"
    }
   ],
   "source": [
    "import matplotlib.pyplot as plt\n",
    "plt.plot(data_train.history['accuracy'], label='Train Accuracy')\n",
    "plt.plot(data_train.history['val_accuracy'], label='Validation Accuracy')\n",
    "plt.title('Grafik Accuracy')\n",
    "plt.xlabel('Epochs')\n",
    "plt.ylabel('Accuracy')\n",
    "plt.legend()\n",
    "plt.show()"
   ]
  },
  {
   "cell_type": "markdown",
   "id": "fd7cff17-4110-47e8-a7da-4ce1e340c7c0",
   "metadata": {},
   "source": [
    "## Grafik Loss"
   ]
  },
  {
   "cell_type": "code",
   "execution_count": 16,
   "id": "ff68ea01-0a8b-4487-887c-73ca76788606",
   "metadata": {},
   "outputs": [
    {
     "data": {
      "image/png": "[encoded data removed]",
      "text/plain": [
       "<Figure size 640x480 with 1 Axes>"
      ]
     },
     "metadata": {},
     "output_type": "display_data"
    }
   ],
   "source": [
    "import matplotlib.pyplot as plt\n",
    "plt.plot(data_train.history['loss'], label='Train Accuracy')\n",
    "plt.plot(data_train.history['val_loss'], label='Validation Loss')\n",
    "plt.title('Grafik Loss')\n",
    "plt.xlabel('Epochs')\n",
    "plt.ylabel('loss')\n",
    "plt.legend()\n",
    "plt.show()"
   ]
  }
 ],
 "metadata": {
  "kernelspec": {
   "display_name": "Python 3 (ipykernel)",
   "language": "python",
   "name": "python3"
  },
  "language_info": {
   "codemirror_mode": {
    "name": "ipython",
    "version": 3
   },
   "file_extension": ".py",
   "mimetype": "text/x-python",
   "name": "python",
   "nbconvert_exporter": "python",
   "pygments_lexer": "ipython3",
   "version": "3.10.7"
  }
 },
 "nbformat": 4,
 "nbformat_minor": 5
}
